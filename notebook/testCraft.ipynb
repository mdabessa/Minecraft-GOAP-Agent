{
 "cells": [
  {
   "cell_type": "code",
   "execution_count": 1,
   "metadata": {},
   "outputs": [],
   "source": [
    "import pandas as pd\n",
    "import numpy as np\n",
    "import matplotlib.pyplot as plt\n",
    "from matplotlib import colors\n",
    "import seaborn as sns\n",
    "import os\n",
    "import json\n",
    "import math\n",
    "\n",
    "from flatten_json import flatten"
   ]
  },
  {
   "cell_type": "code",
   "execution_count": 2,
   "metadata": {},
   "outputs": [],
   "source": [
    "fp = '../tests/test.json'\n",
    "with open(fp) as f:\n",
    "    data = json.load(f)\n",
    "\n",
    "\n",
    "testWalk = data['testCraft']\n",
    "testWalk = [flatten(d, separator='.') for d in testWalk]\n",
    "df = pd.DataFrame(testWalk)"
   ]
  },
  {
   "cell_type": "code",
   "execution_count": 3,
   "metadata": {},
   "outputs": [
    {
     "data": {
      "text/html": [
       "<div>\n",
       "<style scoped>\n",
       "    .dataframe tbody tr th:only-of-type {\n",
       "        vertical-align: middle;\n",
       "    }\n",
       "\n",
       "    .dataframe tbody tr th {\n",
       "        vertical-align: top;\n",
       "    }\n",
       "\n",
       "    .dataframe thead th {\n",
       "        text-align: right;\n",
       "    }\n",
       "</style>\n",
       "<table border=\"1\" class=\"dataframe\">\n",
       "  <thead>\n",
       "    <tr style=\"text-align: right;\">\n",
       "      <th></th>\n",
       "      <th>args</th>\n",
       "      <th>kwargs.item</th>\n",
       "      <th>startTimestamp</th>\n",
       "      <th>startEnvironment.player.name</th>\n",
       "      <th>startEnvironment.player.pos.0</th>\n",
       "      <th>startEnvironment.player.pos.1</th>\n",
       "      <th>startEnvironment.player.pos.2</th>\n",
       "      <th>startEnvironment.player.gamemode</th>\n",
       "      <th>startEnvironment.player.inventory</th>\n",
       "      <th>startEnvironment.world.identifier</th>\n",
       "      <th>...</th>\n",
       "      <th>endEnvironment.world.difficulty</th>\n",
       "      <th>endEnvironment.world.weather.raining</th>\n",
       "      <th>endEnvironment.world.weather.thundering</th>\n",
       "      <th>endEnvironment.world.weather.isDay</th>\n",
       "      <th>endEnvironment.world.weather.isNight</th>\n",
       "      <th>endEnvironment.world.weather.moonPhase</th>\n",
       "      <th>endEnvironment.client.version</th>\n",
       "      <th>endEnvironment.client.modLoader</th>\n",
       "      <th>endEnvironment.client.fps</th>\n",
       "      <th>success</th>\n",
       "    </tr>\n",
       "  </thead>\n",
       "  <tbody>\n",
       "    <tr>\n",
       "      <th>0</th>\n",
       "      <td>[]</td>\n",
       "      <td>stone_sword</td>\n",
       "      <td>1.715610e+09</td>\n",
       "      <td>Ailicia</td>\n",
       "      <td>7800.5</td>\n",
       "      <td>68.000000</td>\n",
       "      <td>1406.5</td>\n",
       "      <td>creative</td>\n",
       "      <td>{}</td>\n",
       "      <td>LOCAL_New World</td>\n",
       "      <td>...</td>\n",
       "      <td>0</td>\n",
       "      <td>False</td>\n",
       "      <td>False</td>\n",
       "      <td>True</td>\n",
       "      <td>False</td>\n",
       "      <td>0</td>\n",
       "      <td>fabric-loader-0.15.10-1.20.2</td>\n",
       "      <td>Fabric</td>\n",
       "      <td>59 fps T: 120 vsyncfancy fancy-clouds B: 2 GPU...</td>\n",
       "      <td>False</td>\n",
       "    </tr>\n",
       "    <tr>\n",
       "      <th>1</th>\n",
       "      <td>[]</td>\n",
       "      <td>stone_sword</td>\n",
       "      <td>1.715610e+09</td>\n",
       "      <td>Ailicia</td>\n",
       "      <td>13536.5</td>\n",
       "      <td>61.307243</td>\n",
       "      <td>6213.5</td>\n",
       "      <td>survival</td>\n",
       "      <td>{}</td>\n",
       "      <td>LOCAL_New World</td>\n",
       "      <td>...</td>\n",
       "      <td>0</td>\n",
       "      <td>False</td>\n",
       "      <td>False</td>\n",
       "      <td>True</td>\n",
       "      <td>False</td>\n",
       "      <td>0</td>\n",
       "      <td>fabric-loader-0.15.10-1.20.2</td>\n",
       "      <td>Fabric</td>\n",
       "      <td>40 fps T: 120 vsyncfancy fancy-clouds B: 2 GPU...</td>\n",
       "      <td>False</td>\n",
       "    </tr>\n",
       "    <tr>\n",
       "      <th>2</th>\n",
       "      <td>[]</td>\n",
       "      <td>stone_sword</td>\n",
       "      <td>1.715610e+09</td>\n",
       "      <td>Ailicia</td>\n",
       "      <td>16953.5</td>\n",
       "      <td>61.336871</td>\n",
       "      <td>8895.5</td>\n",
       "      <td>creative</td>\n",
       "      <td>{}</td>\n",
       "      <td>LOCAL_New World</td>\n",
       "      <td>...</td>\n",
       "      <td>0</td>\n",
       "      <td>False</td>\n",
       "      <td>False</td>\n",
       "      <td>True</td>\n",
       "      <td>False</td>\n",
       "      <td>0</td>\n",
       "      <td>fabric-loader-0.15.10-1.20.2</td>\n",
       "      <td>Fabric</td>\n",
       "      <td>12 fps T: 120 vsyncfancy fancy-clouds B: 2 GPU...</td>\n",
       "      <td>False</td>\n",
       "    </tr>\n",
       "  </tbody>\n",
       "</table>\n",
       "<p>3 rows × 49 columns</p>\n",
       "</div>"
      ],
      "text/plain": [
       "  args  kwargs.item  startTimestamp startEnvironment.player.name  \\\n",
       "0   []  stone_sword    1.715610e+09                      Ailicia   \n",
       "1   []  stone_sword    1.715610e+09                      Ailicia   \n",
       "2   []  stone_sword    1.715610e+09                      Ailicia   \n",
       "\n",
       "   startEnvironment.player.pos.0  startEnvironment.player.pos.1  \\\n",
       "0                         7800.5                      68.000000   \n",
       "1                        13536.5                      61.307243   \n",
       "2                        16953.5                      61.336871   \n",
       "\n",
       "   startEnvironment.player.pos.2 startEnvironment.player.gamemode  \\\n",
       "0                         1406.5                         creative   \n",
       "1                         6213.5                         survival   \n",
       "2                         8895.5                         creative   \n",
       "\n",
       "  startEnvironment.player.inventory startEnvironment.world.identifier  ...  \\\n",
       "0                                {}                   LOCAL_New World  ...   \n",
       "1                                {}                   LOCAL_New World  ...   \n",
       "2                                {}                   LOCAL_New World  ...   \n",
       "\n",
       "   endEnvironment.world.difficulty  endEnvironment.world.weather.raining  \\\n",
       "0                                0                                 False   \n",
       "1                                0                                 False   \n",
       "2                                0                                 False   \n",
       "\n",
       "  endEnvironment.world.weather.thundering endEnvironment.world.weather.isDay  \\\n",
       "0                                   False                               True   \n",
       "1                                   False                               True   \n",
       "2                                   False                               True   \n",
       "\n",
       "   endEnvironment.world.weather.isNight  \\\n",
       "0                                 False   \n",
       "1                                 False   \n",
       "2                                 False   \n",
       "\n",
       "   endEnvironment.world.weather.moonPhase  endEnvironment.client.version  \\\n",
       "0                                       0   fabric-loader-0.15.10-1.20.2   \n",
       "1                                       0   fabric-loader-0.15.10-1.20.2   \n",
       "2                                       0   fabric-loader-0.15.10-1.20.2   \n",
       "\n",
       "   endEnvironment.client.modLoader  \\\n",
       "0                           Fabric   \n",
       "1                           Fabric   \n",
       "2                           Fabric   \n",
       "\n",
       "                           endEnvironment.client.fps  success  \n",
       "0  59 fps T: 120 vsyncfancy fancy-clouds B: 2 GPU...    False  \n",
       "1  40 fps T: 120 vsyncfancy fancy-clouds B: 2 GPU...    False  \n",
       "2  12 fps T: 120 vsyncfancy fancy-clouds B: 2 GPU...    False  \n",
       "\n",
       "[3 rows x 49 columns]"
      ]
     },
     "execution_count": 3,
     "metadata": {},
     "output_type": "execute_result"
    }
   ],
   "source": [
    "df.head()"
   ]
  },
  {
   "cell_type": "code",
   "execution_count": 4,
   "metadata": {},
   "outputs": [
    {
     "data": {
      "text/plain": [
       "Index(['args', 'kwargs.item', 'startTimestamp', 'startEnvironment.player.name',\n",
       "       'startEnvironment.player.pos.0', 'startEnvironment.player.pos.1',\n",
       "       'startEnvironment.player.pos.2', 'startEnvironment.player.gamemode',\n",
       "       'startEnvironment.player.inventory',\n",
       "       'startEnvironment.world.identifier', 'startEnvironment.world.time',\n",
       "       'startEnvironment.world.timeOfDay', 'startEnvironment.world.dimension',\n",
       "       'startEnvironment.world.biome', 'startEnvironment.world.difficulty',\n",
       "       'startEnvironment.world.weather.raining',\n",
       "       'startEnvironment.world.weather.thundering',\n",
       "       'startEnvironment.world.weather.isDay',\n",
       "       'startEnvironment.world.weather.isNight',\n",
       "       'startEnvironment.world.weather.moonPhase',\n",
       "       'startEnvironment.client.version', 'startEnvironment.client.modLoader',\n",
       "       'startEnvironment.client.fps', 'result', 'error', 'traceback',\n",
       "       'endTimestamp', 'duration', 'endEnvironment.player.name',\n",
       "       'endEnvironment.player.pos.0', 'endEnvironment.player.pos.1',\n",
       "       'endEnvironment.player.pos.2', 'endEnvironment.player.gamemode',\n",
       "       'endEnvironment.player.inventory', 'endEnvironment.world.identifier',\n",
       "       'endEnvironment.world.time', 'endEnvironment.world.timeOfDay',\n",
       "       'endEnvironment.world.dimension', 'endEnvironment.world.biome',\n",
       "       'endEnvironment.world.difficulty',\n",
       "       'endEnvironment.world.weather.raining',\n",
       "       'endEnvironment.world.weather.thundering',\n",
       "       'endEnvironment.world.weather.isDay',\n",
       "       'endEnvironment.world.weather.isNight',\n",
       "       'endEnvironment.world.weather.moonPhase',\n",
       "       'endEnvironment.client.version', 'endEnvironment.client.modLoader',\n",
       "       'endEnvironment.client.fps', 'success'],\n",
       "      dtype='object')"
      ]
     },
     "execution_count": 4,
     "metadata": {},
     "output_type": "execute_result"
    }
   ],
   "source": [
    "df.columns"
   ]
  },
  {
   "cell_type": "code",
   "execution_count": 5,
   "metadata": {},
   "outputs": [
    {
     "data": {
      "text/plain": [
       "success\n",
       "False    3\n",
       "Name: count, dtype: int64"
      ]
     },
     "execution_count": 5,
     "metadata": {},
     "output_type": "execute_result"
    }
   ],
   "source": [
    "df['success'].value_counts()"
   ]
  },
  {
   "cell_type": "code",
   "execution_count": 6,
   "metadata": {},
   "outputs": [
    {
     "data": {
      "text/plain": [
       "error\n",
       "No recipe found for id stone_sword    3\n",
       "Name: count, dtype: int64"
      ]
     },
     "execution_count": 6,
     "metadata": {},
     "output_type": "execute_result"
    }
   ],
   "source": [
    "df['error'].value_counts()"
   ]
  },
  {
   "cell_type": "code",
   "execution_count": 7,
   "metadata": {},
   "outputs": [
    {
     "name": "stdout",
     "output_type": "stream",
     "text": [
      "Traceback (most recent call last):\n",
      "  File \"C:\\Users\\mdabe\\curseforge\\minecraft\\Instances\\Ailicia\\config\\jsMacros\\Macros\\libs\\test.py\", line 106, in wrapper\n",
      "    result = func(*args, **kwargs)\n",
      "             ^^^^^^^^^^^^^^^^^^^^^\n",
      "  File \"C:\\Users\\mdabe\\curseforge\\minecraft\\Instances\\Ailicia\\config\\jsMacros\\Macros\\libs\\test.py\", line 256, in testCraft\n",
      "    raise error\n",
      "  File \"C:\\Users\\mdabe\\curseforge\\minecraft\\Instances\\Ailicia\\config\\jsMacros\\Macros\\libs\\test.py\", line 247, in testCraft\n",
      "    Craft.craft(id=item, listener=listerner)\n",
      "  File \"C:\\Users\\mdabe\\curseforge\\minecraft\\Instances\\Ailicia\\config\\jsMacros\\Macros\\libs\\craft.py\", line 454, in craft\n",
      "    raise ValueError('No recipe found for id ' + id)\n",
      "ValueError: No recipe found for id stone_sword\n",
      "\n"
     ]
    }
   ],
   "source": [
    "print(df['traceback'][len(df['traceback'])-1])"
   ]
  }
 ],
 "metadata": {
  "kernelspec": {
   "display_name": "Python 3",
   "language": "python",
   "name": "python3"
  },
  "language_info": {
   "codemirror_mode": {
    "name": "ipython",
    "version": 3
   },
   "file_extension": ".py",
   "mimetype": "text/x-python",
   "name": "python",
   "nbconvert_exporter": "python",
   "pygments_lexer": "ipython3",
   "version": "3.12.1"
  }
 },
 "nbformat": 4,
 "nbformat_minor": 2
}
