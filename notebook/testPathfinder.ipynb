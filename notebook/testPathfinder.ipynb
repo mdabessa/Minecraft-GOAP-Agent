{
 "cells": [
  {
   "cell_type": "code",
   "execution_count": 1,
   "metadata": {},
   "outputs": [],
   "source": [
    "import pandas as pd\n",
    "import numpy as np\n",
    "import matplotlib.pyplot as plt\n",
    "from matplotlib import colors\n",
    "import seaborn as sns\n",
    "import os\n",
    "import json\n",
    "import math"
   ]
  },
  {
   "cell_type": "code",
   "execution_count": 2,
   "metadata": {},
   "outputs": [],
   "source": [
    "fps = [os.path.join('tests', x) for x in os.listdir('tests') if x.endswith('.json')]\n",
    "\n",
    "datas = []\n",
    "for fp in fps:\n",
    "    with open(fp) as f:\n",
    "        data = json.load(f)\n",
    "    testWalk = data['testPathfinder']\n",
    "    testWalk = [pd.json_normalize(x) for x in testWalk]\n",
    "    datas.extend(testWalk)\n",
    "\n",
    "df = pd.concat(datas, ignore_index=True)"
   ]
  },
  {
   "cell_type": "code",
   "execution_count": 3,
   "metadata": {},
   "outputs": [
    {
     "data": {
      "text/html": [
       "<div>\n",
       "<style scoped>\n",
       "    .dataframe tbody tr th:only-of-type {\n",
       "        vertical-align: middle;\n",
       "    }\n",
       "\n",
       "    .dataframe tbody tr th {\n",
       "        vertical-align: top;\n",
       "    }\n",
       "\n",
       "    .dataframe thead th {\n",
       "        text-align: right;\n",
       "    }\n",
       "</style>\n",
       "<table border=\"1\" class=\"dataframe\">\n",
       "  <thead>\n",
       "    <tr style=\"text-align: right;\">\n",
       "      <th></th>\n",
       "      <th>args</th>\n",
       "      <th>startTimestamp</th>\n",
       "      <th>error</th>\n",
       "      <th>traceback</th>\n",
       "      <th>endTimestamp</th>\n",
       "      <th>duration</th>\n",
       "      <th>success</th>\n",
       "      <th>kwargs.canBreak</th>\n",
       "      <th>startEnvironment.player.name</th>\n",
       "      <th>startEnvironment.player.pos</th>\n",
       "      <th>...</th>\n",
       "      <th>endEnvironment.world.weather.thundering</th>\n",
       "      <th>endEnvironment.world.weather.isDay</th>\n",
       "      <th>endEnvironment.world.weather.isNight</th>\n",
       "      <th>endEnvironment.world.weather.moonPhase</th>\n",
       "      <th>endEnvironment.client.version</th>\n",
       "      <th>endEnvironment.client.modLoader</th>\n",
       "      <th>endEnvironment.client.fps</th>\n",
       "      <th>kwargs.canPlace</th>\n",
       "      <th>result.kwargs.canPlace</th>\n",
       "      <th>result</th>\n",
       "    </tr>\n",
       "  </thead>\n",
       "  <tbody>\n",
       "    <tr>\n",
       "      <th>0</th>\n",
       "      <td>[]</td>\n",
       "      <td>1.700434e+09</td>\n",
       "      <td>None</td>\n",
       "      <td>None</td>\n",
       "      <td>1.700434e+09</td>\n",
       "      <td>0.126354</td>\n",
       "      <td>True</td>\n",
       "      <td>False</td>\n",
       "      <td>Ailicia</td>\n",
       "      <td>[1021771.5, 64.0, 1070443.5]</td>\n",
       "      <td>...</td>\n",
       "      <td>False</td>\n",
       "      <td>True</td>\n",
       "      <td>False</td>\n",
       "      <td>2</td>\n",
       "      <td>1.20.1-forge-47.2.0</td>\n",
       "      <td>Forge</td>\n",
       "      <td>676 fps T: inffast B: 2 GPU: 28%</td>\n",
       "      <td>NaN</td>\n",
       "      <td>NaN</td>\n",
       "      <td>NaN</td>\n",
       "    </tr>\n",
       "    <tr>\n",
       "      <th>1</th>\n",
       "      <td>[]</td>\n",
       "      <td>1.700434e+09</td>\n",
       "      <td>None</td>\n",
       "      <td>None</td>\n",
       "      <td>1.700434e+09</td>\n",
       "      <td>0.396056</td>\n",
       "      <td>True</td>\n",
       "      <td>False</td>\n",
       "      <td>Ailicia</td>\n",
       "      <td>[1023723.5, 61.30724333434485, 1075655.5]</td>\n",
       "      <td>...</td>\n",
       "      <td>False</td>\n",
       "      <td>True</td>\n",
       "      <td>False</td>\n",
       "      <td>2</td>\n",
       "      <td>1.20.1-forge-47.2.0</td>\n",
       "      <td>Forge</td>\n",
       "      <td>364 fps T: inffast B: 2 GPU: 28%</td>\n",
       "      <td>NaN</td>\n",
       "      <td>NaN</td>\n",
       "      <td>NaN</td>\n",
       "    </tr>\n",
       "    <tr>\n",
       "      <th>2</th>\n",
       "      <td>[]</td>\n",
       "      <td>1.700434e+09</td>\n",
       "      <td>None</td>\n",
       "      <td>None</td>\n",
       "      <td>1.700434e+09</td>\n",
       "      <td>0.061727</td>\n",
       "      <td>True</td>\n",
       "      <td>False</td>\n",
       "      <td>Ailicia</td>\n",
       "      <td>[1029930.5, 66.0, 1084300.5]</td>\n",
       "      <td>...</td>\n",
       "      <td>False</td>\n",
       "      <td>True</td>\n",
       "      <td>False</td>\n",
       "      <td>2</td>\n",
       "      <td>1.20.1-forge-47.2.0</td>\n",
       "      <td>Forge</td>\n",
       "      <td>667 fps T: inffast B: 2 GPU: 28%</td>\n",
       "      <td>NaN</td>\n",
       "      <td>NaN</td>\n",
       "      <td>NaN</td>\n",
       "    </tr>\n",
       "    <tr>\n",
       "      <th>3</th>\n",
       "      <td>[]</td>\n",
       "      <td>1.700434e+09</td>\n",
       "      <td>None</td>\n",
       "      <td>None</td>\n",
       "      <td>1.700434e+09</td>\n",
       "      <td>0.080046</td>\n",
       "      <td>True</td>\n",
       "      <td>False</td>\n",
       "      <td>Ailicia</td>\n",
       "      <td>[1036160.5, 113.0, 1086411.5]</td>\n",
       "      <td>...</td>\n",
       "      <td>False</td>\n",
       "      <td>True</td>\n",
       "      <td>False</td>\n",
       "      <td>2</td>\n",
       "      <td>1.20.1-forge-47.2.0</td>\n",
       "      <td>Forge</td>\n",
       "      <td>435 fps T: inffast B: 2 GPU: 28%</td>\n",
       "      <td>NaN</td>\n",
       "      <td>NaN</td>\n",
       "      <td>NaN</td>\n",
       "    </tr>\n",
       "    <tr>\n",
       "      <th>4</th>\n",
       "      <td>[]</td>\n",
       "      <td>1.700434e+09</td>\n",
       "      <td>None</td>\n",
       "      <td>None</td>\n",
       "      <td>1.700434e+09</td>\n",
       "      <td>0.043302</td>\n",
       "      <td>True</td>\n",
       "      <td>False</td>\n",
       "      <td>Ailicia</td>\n",
       "      <td>[1042827.5, 63.0, 1093526.5]</td>\n",
       "      <td>...</td>\n",
       "      <td>False</td>\n",
       "      <td>True</td>\n",
       "      <td>False</td>\n",
       "      <td>2</td>\n",
       "      <td>1.20.1-forge-47.2.0</td>\n",
       "      <td>Forge</td>\n",
       "      <td>404 fps T: inffast B: 2 GPU: 28%</td>\n",
       "      <td>NaN</td>\n",
       "      <td>NaN</td>\n",
       "      <td>NaN</td>\n",
       "    </tr>\n",
       "  </tbody>\n",
       "</table>\n",
       "<p>5 rows × 71 columns</p>\n",
       "</div>"
      ],
      "text/plain": [
       "  args  startTimestamp error traceback  endTimestamp  duration  success  \\\n",
       "0   []    1.700434e+09  None      None  1.700434e+09  0.126354     True   \n",
       "1   []    1.700434e+09  None      None  1.700434e+09  0.396056     True   \n",
       "2   []    1.700434e+09  None      None  1.700434e+09  0.061727     True   \n",
       "3   []    1.700434e+09  None      None  1.700434e+09  0.080046     True   \n",
       "4   []    1.700434e+09  None      None  1.700434e+09  0.043302     True   \n",
       "\n",
       "  kwargs.canBreak startEnvironment.player.name  \\\n",
       "0           False                      Ailicia   \n",
       "1           False                      Ailicia   \n",
       "2           False                      Ailicia   \n",
       "3           False                      Ailicia   \n",
       "4           False                      Ailicia   \n",
       "\n",
       "                 startEnvironment.player.pos  ...  \\\n",
       "0               [1021771.5, 64.0, 1070443.5]  ...   \n",
       "1  [1023723.5, 61.30724333434485, 1075655.5]  ...   \n",
       "2               [1029930.5, 66.0, 1084300.5]  ...   \n",
       "3              [1036160.5, 113.0, 1086411.5]  ...   \n",
       "4               [1042827.5, 63.0, 1093526.5]  ...   \n",
       "\n",
       "  endEnvironment.world.weather.thundering endEnvironment.world.weather.isDay  \\\n",
       "0                                   False                               True   \n",
       "1                                   False                               True   \n",
       "2                                   False                               True   \n",
       "3                                   False                               True   \n",
       "4                                   False                               True   \n",
       "\n",
       "   endEnvironment.world.weather.isNight  \\\n",
       "0                                 False   \n",
       "1                                 False   \n",
       "2                                 False   \n",
       "3                                 False   \n",
       "4                                 False   \n",
       "\n",
       "   endEnvironment.world.weather.moonPhase endEnvironment.client.version  \\\n",
       "0                                       2           1.20.1-forge-47.2.0   \n",
       "1                                       2           1.20.1-forge-47.2.0   \n",
       "2                                       2           1.20.1-forge-47.2.0   \n",
       "3                                       2           1.20.1-forge-47.2.0   \n",
       "4                                       2           1.20.1-forge-47.2.0   \n",
       "\n",
       "  endEnvironment.client.modLoader         endEnvironment.client.fps  \\\n",
       "0                           Forge  676 fps T: inffast B: 2 GPU: 28%   \n",
       "1                           Forge  364 fps T: inffast B: 2 GPU: 28%   \n",
       "2                           Forge  667 fps T: inffast B: 2 GPU: 28%   \n",
       "3                           Forge  435 fps T: inffast B: 2 GPU: 28%   \n",
       "4                           Forge  404 fps T: inffast B: 2 GPU: 28%   \n",
       "\n",
       "   kwargs.canPlace  result.kwargs.canPlace  result  \n",
       "0              NaN                     NaN     NaN  \n",
       "1              NaN                     NaN     NaN  \n",
       "2              NaN                     NaN     NaN  \n",
       "3              NaN                     NaN     NaN  \n",
       "4              NaN                     NaN     NaN  \n",
       "\n",
       "[5 rows x 71 columns]"
      ]
     },
     "execution_count": 3,
     "metadata": {},
     "output_type": "execute_result"
    }
   ],
   "source": [
    "df.head()"
   ]
  },
  {
   "cell_type": "code",
   "execution_count": 4,
   "metadata": {},
   "outputs": [
    {
     "data": {
      "text/plain": [
       "(140, 71)"
      ]
     },
     "execution_count": 4,
     "metadata": {},
     "output_type": "execute_result"
    }
   ],
   "source": [
    "df.shape"
   ]
  },
  {
   "cell_type": "code",
   "execution_count": 5,
   "metadata": {},
   "outputs": [
    {
     "name": "stdout",
     "output_type": "stream",
     "text": [
      "Index(['args', 'startTimestamp', 'error', 'traceback', 'endTimestamp',\n",
      "       'duration', 'success', 'kwargs.canBreak',\n",
      "       'startEnvironment.player.name', 'startEnvironment.player.pos',\n",
      "       'startEnvironment.player.gamemode', 'startEnvironment.world.identifier',\n",
      "       'startEnvironment.world.time', 'startEnvironment.world.timeOfDay',\n",
      "       'startEnvironment.world.dimension', 'startEnvironment.world.biome',\n",
      "       'startEnvironment.world.difficulty',\n",
      "       'startEnvironment.world.weather.raining',\n",
      "       'startEnvironment.world.weather.thundering',\n",
      "       'startEnvironment.world.weather.isDay',\n",
      "       'startEnvironment.world.weather.isNight',\n",
      "       'startEnvironment.world.weather.moonPhase',\n",
      "       'startEnvironment.client.version', 'startEnvironment.client.modLoader',\n",
      "       'startEnvironment.client.fps', 'result.args', 'result.kwargs.canBreak',\n",
      "       'result.start', 'result.end', 'result.pathLength',\n",
      "       'result.walkConfig.canBreak', 'result.walkConfig.canPlace',\n",
      "       'result.walkConfig.denyList', 'result.walkConfig.end',\n",
      "       'result.walkConfig.explorationMap.start',\n",
      "       'result.walkConfig.explorationMap.end',\n",
      "       'result.walkConfig.explorationMap.path',\n",
      "       'result.walkConfig.explorationMap.denyList',\n",
      "       'result.walkConfig.explorationMap.openList',\n",
      "       'result.walkConfig.explorationMap.closedList',\n",
      "       'result.walkConfig.maxFall', 'result.walkConfig.maxJump',\n",
      "       'result.walkConfig.maxPathLength', 'result.walkConfig.placeBlocks',\n",
      "       'result.walkConfig.reverse', 'result.walkConfig.saveExplorationMap',\n",
      "       'result.walkConfig.start', 'result.walkConfig.stepEnd',\n",
      "       'result.walkConfig.stepStart', 'result.walkConfig.timeLimit',\n",
      "       'result.walkConfig.weightMask', 'endEnvironment.player.name',\n",
      "       'endEnvironment.player.pos', 'endEnvironment.player.gamemode',\n",
      "       'endEnvironment.world.identifier', 'endEnvironment.world.time',\n",
      "       'endEnvironment.world.timeOfDay', 'endEnvironment.world.dimension',\n",
      "       'endEnvironment.world.biome', 'endEnvironment.world.difficulty',\n",
      "       'endEnvironment.world.weather.raining',\n",
      "       'endEnvironment.world.weather.thundering',\n",
      "       'endEnvironment.world.weather.isDay',\n",
      "       'endEnvironment.world.weather.isNight',\n",
      "       'endEnvironment.world.weather.moonPhase',\n",
      "       'endEnvironment.client.version', 'endEnvironment.client.modLoader',\n",
      "       'endEnvironment.client.fps', 'kwargs.canPlace',\n",
      "       'result.kwargs.canPlace', 'result'],\n",
      "      dtype='object')\n"
     ]
    }
   ],
   "source": [
    "print(df.columns)"
   ]
  },
  {
   "cell_type": "code",
   "execution_count": 6,
   "metadata": {},
   "outputs": [
    {
     "name": "stdout",
     "output_type": "stream",
     "text": [
      "Path not found    8\n",
      "Name: error, dtype: int64\n"
     ]
    }
   ],
   "source": [
    "print(df['error'].value_counts())"
   ]
  },
  {
   "cell_type": "code",
   "execution_count": 7,
   "metadata": {},
   "outputs": [
    {
     "name": "stdout",
     "output_type": "stream",
     "text": [
      "False    66\n",
      "True     66\n",
      "Name: result.walkConfig.canBreak, dtype: int64\n",
      "True     66\n",
      "False    66\n",
      "Name: result.walkConfig.canPlace, dtype: int64\n"
     ]
    }
   ],
   "source": [
    "print(df['result.walkConfig.canBreak'].value_counts())\n",
    "print(df['result.walkConfig.canPlace'].value_counts())"
   ]
  },
  {
   "cell_type": "code",
   "execution_count": 8,
   "metadata": {},
   "outputs": [],
   "source": [
    "def getCategory(x):\n",
    "    if x['result.walkConfig.canBreak'] == True and x['result.walkConfig.canPlace'] == True:\n",
    "        return 'Break and Place\\n50 testes'\n",
    "    elif x['result.walkConfig.canBreak'] == True:\n",
    "        return 'Break Only\\n20 testes'\n",
    "    elif x['result.walkConfig.canPlace'] == True:\n",
    "        return 'Place Only\\n20 testes'\n",
    "    elif pd.isnull(x['result.walkConfig.canBreak']) and pd.isnull(x['result.walkConfig.canPlace']):\n",
    "        return 'Fail'\n",
    "    else:\n",
    "        return 'NoBreak and NoPlace\\n50 testes'"
   ]
  },
  {
   "cell_type": "code",
   "execution_count": 9,
   "metadata": {},
   "outputs": [
    {
     "data": {
      "text/plain": [
       "Break and Place\\n50 testes        46\n",
       "NoBreak and NoPlace\\n50 testes    46\n",
       "Place Only\\n20 testes             20\n",
       "Break Only\\n20 testes             20\n",
       "Fail                               8\n",
       "Name: category, dtype: int64"
      ]
     },
     "execution_count": 9,
     "metadata": {},
     "output_type": "execute_result"
    }
   ],
   "source": [
    "df['category'] = df.apply(getCategory, axis=1)\n",
    "df['category'].value_counts()"
   ]
  },
  {
   "cell_type": "code",
   "execution_count": 10,
   "metadata": {},
   "outputs": [],
   "source": [
    "def getLength(x):\n",
    "    try:\n",
    "        # get the number of open in the last iteration of pathfinder\n",
    "        return len(x[-1])\n",
    "    except:\n",
    "        return None"
   ]
  },
  {
   "cell_type": "code",
   "execution_count": 11,
   "metadata": {},
   "outputs": [
    {
     "name": "stdout",
     "output_type": "stream",
     "text": [
      "Mean of open nodes:  206.8560606060606\n",
      "Mean of closed nodes:  111.54545454545455\n",
      "Mean of total nodes:  318.4015151515151\n"
     ]
    }
   ],
   "source": [
    "df['openNodes'] = df['result.walkConfig.explorationMap.openList'].apply(lambda x: getLength(x))\n",
    "print('Mean of open nodes: ', df['openNodes'].mean())\n",
    "\n",
    "df['closedNodes'] = df['result.walkConfig.explorationMap.closedList'].apply(lambda x: getLength(x))\n",
    "print('Mean of closed nodes: ', df['closedNodes'].mean())\n",
    "\n",
    "df['totalNodes'] = df['openNodes'] + df['closedNodes']\n",
    "print('Mean of total nodes: ', df['totalNodes'].mean())"
   ]
  },
  {
   "cell_type": "code",
   "execution_count": 12,
   "metadata": {},
   "outputs": [
    {
     "name": "stdout",
     "output_type": "stream",
     "text": [
      "Mean duration: 0.38145657096590313\n"
     ]
    },
    {
     "data": {
      "text/plain": [
       "category\n",
       "Break Only\\n20 testes             0.294859\n",
       "Break and Place\\n50 testes        0.152087\n",
       "Fail                              3.178251\n",
       "NoBreak and NoPlace\\n50 testes    0.248460\n",
       "Place Only\\n20 testes             0.182779\n",
       "Name: duration, dtype: float64"
      ]
     },
     "execution_count": 12,
     "metadata": {},
     "output_type": "execute_result"
    }
   ],
   "source": [
    "# df['duration']\n",
    "print('Mean duration:', df['duration'].mean())\n",
    "\n",
    "categoryGroups = df.groupby('category')\n",
    "categoryGroups['duration'].mean()\n"
   ]
  },
  {
   "cell_type": "code",
   "execution_count": 13,
   "metadata": {},
   "outputs": [
    {
     "data": {
      "text/plain": [
       "category\n",
       "Break Only\\n20 testes             359.650000\n",
       "Break and Place\\n50 testes        292.413043\n",
       "Fail                                     NaN\n",
       "NoBreak and NoPlace\\n50 testes    329.717391\n",
       "Place Only\\n20 testes             310.900000\n",
       "Name: totalNodes, dtype: float64"
      ]
     },
     "execution_count": 13,
     "metadata": {},
     "output_type": "execute_result"
    }
   ],
   "source": [
    "categoryGroups['totalNodes'].mean()"
   ]
  },
  {
   "cell_type": "code",
   "execution_count": 14,
   "metadata": {},
   "outputs": [
    {
     "name": "stderr",
     "output_type": "stream",
     "text": [
      "C:\\Users\\mdabe\\AppData\\Local\\Temp\\ipykernel_7640\\3565278519.py:15: FutureWarning: The default value of numeric_only in DataFrameGroupBy.mean is deprecated. In a future version, numeric_only will default to False. Either specify numeric_only or select only columns which should be valid for the function.\n",
      "  mean = data.mean()\n",
      "C:\\Users\\mdabe\\AppData\\Local\\Temp\\ipykernel_7640\\3565278519.py:20: UserWarning: FixedFormatter should only be used together with FixedLocator\n",
      "  ax.set_xticklabels(mean.index, rotation=0)\n"
     ]
    },
    {
     "data": {
      "image/png": "[encoded data removed]",
      "text/plain": [
       "<Figure size 1000x600 with 1 Axes>"
      ]
     },
     "metadata": {},
     "output_type": "display_data"
    }
   ],
   "source": [
    "# plot bar with open nodes and closed nodes / ignore fail\n",
    "# stacked bar\n",
    "data = df[df['category'] != 'Fail']\n",
    "group = data.groupby('category')\n",
    "duration = group['duration'].mean() / group['totalNodes'].mean() # in seconds\n",
    "\n",
    "#data['category'] = data['category'] + '\\n' + str(round(duration*1_000_000, 2)) + ' µs média por nó'\n",
    "rename = {}\n",
    "for i in data['category']:\n",
    "    rename[i] = i + '\\n' + str(round(duration[i]*1_000_000, 2)) + ' µs média por nó'\n",
    "\n",
    "data = data.replace(rename)\n",
    "data = data.groupby('category')\n",
    "\n",
    "mean = data.mean()\n",
    "fig, ax = plt.subplots(figsize=(10, 6))\n",
    "ax.set_title('Nós explorados por categoria')\n",
    "ax.set_ylabel('Nós explorados')\n",
    "ax.set_xlabel('Categoria')\n",
    "ax.set_xticklabels(mean.index, rotation=0)\n",
    "ax.bar(mean.index, mean['openNodes'], label='Nós abertos')\n",
    "ax.bar(mean.index, mean['closedNodes'], bottom=mean['openNodes'], label='Nós fechados')\n",
    "# add subtitle of category with mean['totalNodes']/mean['duration']\n",
    "\n",
    "ax.legend()\n",
    "plt.show()\n"
   ]
  },
  {
   "cell_type": "code",
   "execution_count": null,
   "metadata": {},
   "outputs": [],
   "source": []
  }
 ],
 "metadata": {
  "kernelspec": {
   "display_name": "Python 3",
   "language": "python",
   "name": "python3"
  },
  "language_info": {
   "codemirror_mode": {
    "name": "ipython",
    "version": 3
   },
   "file_extension": ".py",
   "mimetype": "text/x-python",
   "name": "python",
   "nbconvert_exporter": "python",
   "pygments_lexer": "ipython3",
   "version": "3.11.1"
  }
 },
 "nbformat": 4,
 "nbformat_minor": 2
}
